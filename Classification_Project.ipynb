{
 "cells": [
  {
   "cell_type": "code",
   "execution_count": 1,
   "id": "5996ebda",
   "metadata": {},
   "outputs": [],
   "source": [
    "import warnings\n",
    "warnings.filterwarnings('ignore')\n",
    "import seaborn as sns \n",
    "import matplotlib.pyplot as plt\n",
    "import pandas as pd\n",
    "import numpy as np\n",
    "import sklearn\n",
    "import sklearn.preprocessing as prep\n",
    "import math\n",
    "from sklearn.model_selection import train_test_split , KFold\n",
    "from sklearn.preprocessing import Normalizer\n",
    "from sklearn.metrics import accuracy_score\n",
    "from sklearn.neighbors import KNeighborsClassifier\n",
    "from sklearn.naive_bayes import GaussianNB\n",
    "from sklearn.linear_model import LogisticRegression\n",
    "from sklearn import linear_model, metrics\n",
    "from sklearn.neural_network import MLPClassifier\n",
    "import tensorflow as tf\n",
    "from tensorflow.keras.models import Sequential\n",
    "from sklearn.model_selection import train_test_split, cross_val_score, GridSearchCV\n",
    "from sklearn.metrics import accuracy_score, roc_auc_score, confusion_matrix, classification_report, plot_roc_curve, plot_confusion_matrix\n",
    "from sklearn.model_selection import cross_val_score\n",
    "from tensorflow.keras.layers import Dense\n",
    "from tensorflow.keras import regularizers\n",
    "from sklearn.model_selection import cross_validate"
   ]
  },
  {
   "cell_type": "code",
   "execution_count": 121,
   "id": "a80805de",
   "metadata": {},
   "outputs": [],
   "source": [
    "#pip install --upgrade pip"
   ]
  },
  {
   "cell_type": "code",
   "execution_count": 122,
   "id": "77bcc524",
   "metadata": {},
   "outputs": [],
   "source": [
    "#pip install tensorflow==2.12.*"
   ]
  },
  {
   "cell_type": "code",
   "execution_count": 2,
   "id": "66571e93",
   "metadata": {},
   "outputs": [],
   "source": [
    "#Clear nulls in csv columns\n",
    "def cleanNullTerms(d):\n",
    "   clean = {}\n",
    "   for k, v in d.items():\n",
    "      if isinstance(v, dict):\n",
    "         nested = cleanNullTerms(v)\n",
    "         if len(nested.keys()) > 0:\n",
    "            clean[k] = nested\n",
    "      elif v is not None:\n",
    "         clean[k] = v\n",
    "   return clean"
   ]
  },
  {
   "cell_type": "code",
   "execution_count": 5,
   "id": "1b43ac69",
   "metadata": {},
   "outputs": [],
   "source": [
    "df=pd.read_csv('1985_accidents_cleaned.csv')\n",
    "#Load lookup table\n",
    "lookup = pd.read_csv(\"lookup_final.csv\"  , low_memory=False)\n",
    "df.head()\n",
    "df_new=df.copy()"
   ]
  },
  {
   "cell_type": "code",
   "execution_count": 6,
   "id": "82674666",
   "metadata": {},
   "outputs": [
    {
     "data": {
      "text/plain": [
       "first_road_number                                                                           0.002739\n",
       "Week number                                                                                 0.002756\n",
       "first_road_class_A                                                                          0.004488\n",
       "police_force                                                                                0.004967\n",
       "No pedestrian human control within 50 metres                                                0.005585\n",
       "Control by school patrol or other authorised person                                         0.005585\n",
       "road_surface_conditions_Flood over 3cm. deep                                                0.005601\n",
       "road_surface_conditions_Other                                                               0.006496\n",
       "road_type_Dual carriageway                                                                  0.006712\n",
       "first_road_class_other                                                                      0.007434\n",
       "first_road_class_Motorway                                                                   0.008180\n",
       "raining?                                                                                    0.008425\n",
       "weather_conditions_encode                                                                   0.008444\n",
       "road_surface_conditions_Dry                                                                 0.009860\n",
       "first_road_class_B                                                                          0.010699\n",
       "road_surface_conditions_Wet or damp                                                         0.012457\n",
       "carriageway_hazards_None                                                                    0.012838\n",
       "carriageway_hazards_Present                                                                 0.012838\n",
       "No Special Conditions                                                                       0.014378\n",
       "Special Conditions Present                                                                  0.014378\n",
       "day_of_week                                                                                 0.014703\n",
       "number_of_vehicles                                                                          0.031406\n",
       "location_northing_osgr                                                                      0.033159\n",
       "road_type_other                                                                             0.035063\n",
       "local_authority_district                                                                    0.035896\n",
       "road_type_Single carriageway                                                                0.050119\n",
       "location_easting_osgr                                                                       0.052667\n",
       "pedestrian_crossing_physical_facilities_Physical Crossing Facilities Present                0.063657\n",
       "pedestrian_crossing_physical_facilities_No physical crossing facilities within 50 metres    0.063657\n",
       "road_type_Roundabout                                                                        0.079318\n",
       "daylight?                                                                                   0.082382\n",
       "light_conditions_encode                                                                     0.090381\n",
       "speed_limit                                                                                 0.115212\n",
       "junction_detail_encode                                                                      0.120156\n",
       "number_of_casualties                                                                        0.214689\n",
       "accident_severity_encode                                                                    1.000000\n",
       "Name: accident_severity_encode, dtype: float64"
      ]
     },
     "execution_count": 6,
     "metadata": {},
     "output_type": "execute_result"
    }
   ],
   "source": [
    "corr=df_new.corr()\n",
    "abs(corr['accident_severity_encode']).sort_values()"
   ]
  },
  {
   "cell_type": "code",
   "execution_count": 7,
   "id": "cbf5a814",
   "metadata": {},
   "outputs": [],
   "source": [
    "#x=abs(corr['accident_severity_encode']).sort_values()\n",
    "#for i in x:\n",
    " #   print (i.key())\n",
    "df.drop(['first_road_number'], axis=1, inplace=True)\n",
    "df.drop(['Week number'], axis=1, inplace=True)\n",
    "df.drop(['first_road_class_A'], axis=1, inplace=True)\n",
    "df.drop(['police_force'], axis=1, inplace=True)\n",
    "df.drop(['No pedestrian human control within 50 metres'], axis=1, inplace=True)\n",
    "df.drop(['Control by school patrol or other authorised person'], axis=1, inplace=True)\n",
    "df.drop(['raining?'], axis=1, inplace=True)\n",
    "df.drop(['daylight?'], axis=1, inplace=True)\n",
    "#x.keys()\n",
    "#list(x.items())[:4]"
   ]
  },
  {
   "cell_type": "code",
   "execution_count": 8,
   "id": "a1f5dc14",
   "metadata": {},
   "outputs": [
    {
     "data": {
      "text/plain": [
       "Index(['location_easting_osgr', 'location_northing_osgr', 'number_of_vehicles',\n",
       "       'number_of_casualties', 'day_of_week', 'local_authority_district',\n",
       "       'speed_limit', 'accident_severity_encode', 'first_road_class_B',\n",
       "       'first_road_class_Motorway', 'first_road_class_other',\n",
       "       'road_type_Dual carriageway', 'road_type_Roundabout',\n",
       "       'road_type_Single carriageway', 'road_type_other',\n",
       "       'junction_detail_encode',\n",
       "       'pedestrian_crossing_physical_facilities_No physical crossing facilities within 50 metres',\n",
       "       'pedestrian_crossing_physical_facilities_Physical Crossing Facilities Present',\n",
       "       'light_conditions_encode', 'weather_conditions_encode',\n",
       "       'road_surface_conditions_Dry',\n",
       "       'road_surface_conditions_Flood over 3cm. deep',\n",
       "       'road_surface_conditions_Other', 'road_surface_conditions_Wet or damp',\n",
       "       'No Special Conditions', 'Special Conditions Present',\n",
       "       'carriageway_hazards_None', 'carriageway_hazards_Present'],\n",
       "      dtype='object')"
      ]
     },
     "execution_count": 8,
     "metadata": {},
     "output_type": "execute_result"
    }
   ],
   "source": [
    "df.columns"
   ]
  },
  {
   "cell_type": "code",
   "execution_count": 9,
   "id": "82e12e8b",
   "metadata": {},
   "outputs": [],
   "source": [
    "df.drop(['road_type_other'], axis=1, inplace=True)\n",
    "df.drop(['first_road_class_other'], axis=1, inplace=True)\n",
    "df.drop(['road_surface_conditions_Other'], axis=1, inplace=True)\n",
    "df.drop(['No Special Conditions'], axis=1, inplace=True)\n",
    "df.drop(['carriageway_hazards_None'], axis=1, inplace=True)\n",
    "df.drop(['pedestrian_crossing_physical_facilities_No physical crossing facilities within 50 metres'], axis=1, inplace=True)\n",
    "#df.drop(['No pedestrian human control within 50 metres'], axis=1, inplace=True)\n"
   ]
  },
  {
   "cell_type": "code",
   "execution_count": 10,
   "id": "19eb8ef3",
   "metadata": {},
   "outputs": [],
   "source": [
    "df_new=df.copy()"
   ]
  },
  {
   "cell_type": "code",
   "execution_count": 11,
   "id": "2a8e21a9",
   "metadata": {},
   "outputs": [
    {
     "data": {
      "text/plain": [
       "{2.0: 'Slight',\n",
       " 1.0: 'Serious',\n",
       " 0.0: 'Fatal',\n",
       " nan: nan,\n",
       " nan: nan,\n",
       " nan: nan,\n",
       " nan: nan,\n",
       " nan: nan,\n",
       " nan: nan,\n",
       " nan: nan,\n",
       " nan: nan,\n",
       " nan: nan,\n",
       " nan: nan,\n",
       " nan: nan,\n",
       " nan: nan,\n",
       " nan: nan,\n",
       " nan: nan,\n",
       " nan: nan,\n",
       " nan: nan,\n",
       " nan: nan,\n",
       " nan: nan,\n",
       " nan: nan,\n",
       " nan: nan,\n",
       " nan: nan,\n",
       " nan: nan,\n",
       " nan: nan,\n",
       " nan: nan,\n",
       " nan: nan,\n",
       " nan: nan,\n",
       " nan: nan,\n",
       " nan: nan,\n",
       " nan: nan,\n",
       " nan: nan,\n",
       " nan: nan,\n",
       " nan: nan,\n",
       " nan: nan,\n",
       " nan: nan,\n",
       " nan: nan,\n",
       " nan: nan,\n",
       " nan: nan,\n",
       " nan: nan,\n",
       " nan: nan,\n",
       " nan: nan,\n",
       " nan: nan,\n",
       " nan: nan,\n",
       " nan: nan,\n",
       " nan: nan,\n",
       " nan: nan,\n",
       " nan: nan,\n",
       " nan: nan,\n",
       " nan: nan,\n",
       " nan: nan,\n",
       " nan: nan,\n",
       " nan: nan,\n",
       " nan: nan,\n",
       " nan: nan,\n",
       " nan: nan,\n",
       " nan: nan,\n",
       " nan: nan,\n",
       " nan: nan,\n",
       " nan: nan,\n",
       " nan: nan,\n",
       " nan: nan,\n",
       " nan: nan,\n",
       " nan: nan,\n",
       " nan: nan,\n",
       " nan: nan,\n",
       " nan: nan,\n",
       " nan: nan,\n",
       " nan: nan,\n",
       " nan: nan,\n",
       " nan: nan,\n",
       " nan: nan,\n",
       " nan: nan,\n",
       " nan: nan,\n",
       " nan: nan,\n",
       " nan: nan,\n",
       " nan: nan,\n",
       " nan: nan,\n",
       " nan: nan,\n",
       " nan: nan,\n",
       " nan: nan,\n",
       " nan: nan,\n",
       " nan: nan,\n",
       " nan: nan,\n",
       " nan: nan,\n",
       " nan: nan,\n",
       " nan: nan,\n",
       " nan: nan,\n",
       " nan: nan,\n",
       " nan: nan,\n",
       " nan: nan,\n",
       " nan: nan,\n",
       " nan: nan,\n",
       " nan: nan,\n",
       " nan: nan,\n",
       " nan: nan,\n",
       " nan: nan,\n",
       " nan: nan,\n",
       " nan: nan,\n",
       " nan: nan,\n",
       " nan: nan,\n",
       " nan: nan,\n",
       " nan: nan,\n",
       " nan: nan,\n",
       " nan: nan,\n",
       " nan: nan,\n",
       " nan: nan,\n",
       " nan: nan,\n",
       " nan: nan,\n",
       " nan: nan,\n",
       " nan: nan,\n",
       " nan: nan,\n",
       " nan: nan,\n",
       " nan: nan,\n",
       " nan: nan,\n",
       " nan: nan,\n",
       " nan: nan,\n",
       " nan: nan,\n",
       " nan: nan,\n",
       " nan: nan,\n",
       " nan: nan,\n",
       " nan: nan,\n",
       " nan: nan,\n",
       " nan: nan,\n",
       " nan: nan,\n",
       " nan: nan,\n",
       " nan: nan,\n",
       " nan: nan,\n",
       " nan: nan,\n",
       " nan: nan,\n",
       " nan: nan,\n",
       " nan: nan,\n",
       " nan: nan,\n",
       " nan: nan,\n",
       " nan: nan,\n",
       " nan: nan,\n",
       " nan: nan,\n",
       " nan: nan,\n",
       " nan: nan,\n",
       " nan: nan,\n",
       " nan: nan,\n",
       " nan: nan,\n",
       " nan: nan,\n",
       " nan: nan,\n",
       " nan: nan,\n",
       " nan: nan,\n",
       " nan: nan,\n",
       " nan: nan,\n",
       " nan: nan,\n",
       " nan: nan,\n",
       " nan: nan,\n",
       " nan: nan,\n",
       " nan: nan,\n",
       " nan: nan,\n",
       " nan: nan,\n",
       " nan: nan,\n",
       " nan: nan,\n",
       " nan: nan,\n",
       " nan: nan,\n",
       " nan: nan,\n",
       " nan: nan,\n",
       " nan: nan,\n",
       " nan: nan,\n",
       " nan: nan,\n",
       " nan: nan,\n",
       " nan: nan,\n",
       " nan: nan,\n",
       " nan: nan,\n",
       " nan: nan,\n",
       " nan: nan,\n",
       " nan: nan,\n",
       " nan: nan,\n",
       " nan: nan,\n",
       " nan: nan,\n",
       " nan: nan,\n",
       " nan: nan,\n",
       " nan: nan,\n",
       " nan: nan,\n",
       " nan: nan,\n",
       " nan: nan,\n",
       " nan: nan,\n",
       " nan: nan,\n",
       " nan: nan,\n",
       " nan: nan,\n",
       " nan: nan,\n",
       " nan: nan,\n",
       " nan: nan,\n",
       " nan: nan,\n",
       " nan: nan,\n",
       " nan: nan,\n",
       " nan: nan,\n",
       " nan: nan,\n",
       " nan: nan,\n",
       " nan: nan,\n",
       " nan: nan,\n",
       " nan: nan,\n",
       " nan: nan,\n",
       " nan: nan,\n",
       " nan: nan,\n",
       " nan: nan,\n",
       " nan: nan,\n",
       " nan: nan,\n",
       " nan: nan,\n",
       " nan: nan,\n",
       " nan: nan,\n",
       " nan: nan,\n",
       " nan: nan,\n",
       " nan: nan,\n",
       " nan: nan,\n",
       " nan: nan,\n",
       " nan: nan,\n",
       " nan: nan,\n",
       " nan: nan,\n",
       " nan: nan,\n",
       " nan: nan,\n",
       " nan: nan,\n",
       " nan: nan,\n",
       " nan: nan,\n",
       " nan: nan,\n",
       " nan: nan,\n",
       " nan: nan,\n",
       " nan: nan,\n",
       " nan: nan,\n",
       " nan: nan,\n",
       " nan: nan,\n",
       " nan: nan,\n",
       " nan: nan,\n",
       " nan: nan,\n",
       " nan: nan,\n",
       " nan: nan,\n",
       " nan: nan,\n",
       " nan: nan,\n",
       " nan: nan,\n",
       " nan: nan,\n",
       " nan: nan,\n",
       " nan: nan,\n",
       " nan: nan,\n",
       " nan: nan,\n",
       " nan: nan,\n",
       " nan: nan,\n",
       " nan: nan,\n",
       " nan: nan,\n",
       " nan: nan,\n",
       " nan: nan,\n",
       " nan: nan,\n",
       " nan: nan,\n",
       " nan: nan,\n",
       " nan: nan,\n",
       " nan: nan,\n",
       " nan: nan,\n",
       " nan: nan,\n",
       " nan: nan,\n",
       " nan: nan,\n",
       " nan: nan,\n",
       " nan: nan,\n",
       " nan: nan,\n",
       " nan: nan,\n",
       " nan: nan,\n",
       " nan: nan,\n",
       " nan: nan,\n",
       " nan: nan,\n",
       " nan: nan,\n",
       " nan: nan,\n",
       " nan: nan,\n",
       " nan: nan,\n",
       " nan: nan,\n",
       " nan: nan,\n",
       " nan: nan,\n",
       " nan: nan,\n",
       " nan: nan,\n",
       " nan: nan,\n",
       " nan: nan,\n",
       " nan: nan,\n",
       " nan: nan,\n",
       " nan: nan,\n",
       " nan: nan,\n",
       " nan: nan,\n",
       " nan: nan,\n",
       " nan: nan,\n",
       " nan: nan,\n",
       " nan: nan,\n",
       " nan: nan,\n",
       " nan: nan,\n",
       " nan: nan,\n",
       " nan: nan,\n",
       " nan: nan,\n",
       " nan: nan,\n",
       " nan: nan,\n",
       " nan: nan,\n",
       " nan: nan,\n",
       " nan: nan,\n",
       " nan: nan,\n",
       " nan: nan,\n",
       " nan: nan,\n",
       " nan: nan,\n",
       " nan: nan,\n",
       " nan: nan,\n",
       " nan: nan,\n",
       " nan: nan,\n",
       " nan: nan,\n",
       " nan: nan,\n",
       " nan: nan,\n",
       " nan: nan,\n",
       " nan: nan,\n",
       " nan: nan,\n",
       " nan: nan,\n",
       " nan: nan,\n",
       " nan: nan,\n",
       " nan: nan,\n",
       " nan: nan,\n",
       " nan: nan,\n",
       " nan: nan,\n",
       " nan: nan,\n",
       " nan: nan,\n",
       " nan: nan,\n",
       " nan: nan,\n",
       " nan: nan,\n",
       " nan: nan,\n",
       " nan: nan,\n",
       " nan: nan,\n",
       " nan: nan,\n",
       " nan: nan,\n",
       " nan: nan,\n",
       " nan: nan,\n",
       " nan: nan,\n",
       " nan: nan,\n",
       " nan: nan,\n",
       " nan: nan,\n",
       " nan: nan,\n",
       " nan: nan,\n",
       " nan: nan,\n",
       " nan: nan,\n",
       " nan: nan,\n",
       " nan: nan,\n",
       " nan: nan,\n",
       " nan: nan,\n",
       " nan: nan,\n",
       " nan: nan,\n",
       " nan: nan,\n",
       " nan: nan,\n",
       " nan: nan,\n",
       " nan: nan,\n",
       " nan: nan,\n",
       " nan: nan,\n",
       " nan: nan,\n",
       " nan: nan,\n",
       " nan: nan,\n",
       " nan: nan,\n",
       " nan: nan,\n",
       " nan: nan,\n",
       " nan: nan,\n",
       " nan: nan,\n",
       " nan: nan,\n",
       " nan: nan,\n",
       " nan: nan,\n",
       " nan: nan,\n",
       " nan: nan,\n",
       " nan: nan,\n",
       " nan: nan,\n",
       " nan: nan,\n",
       " nan: nan,\n",
       " nan: nan,\n",
       " nan: nan,\n",
       " nan: nan,\n",
       " nan: nan,\n",
       " nan: nan,\n",
       " nan: nan,\n",
       " nan: nan,\n",
       " nan: nan,\n",
       " nan: nan,\n",
       " nan: nan,\n",
       " nan: nan,\n",
       " nan: nan,\n",
       " nan: nan,\n",
       " nan: nan,\n",
       " nan: nan,\n",
       " nan: nan,\n",
       " nan: nan,\n",
       " nan: nan,\n",
       " nan: nan,\n",
       " nan: nan,\n",
       " nan: nan,\n",
       " nan: nan,\n",
       " nan: nan,\n",
       " nan: nan,\n",
       " nan: nan,\n",
       " nan: nan,\n",
       " nan: nan,\n",
       " nan: nan,\n",
       " nan: nan,\n",
       " nan: nan,\n",
       " nan: nan,\n",
       " nan: nan,\n",
       " nan: nan,\n",
       " nan: nan,\n",
       " nan: nan,\n",
       " nan: nan,\n",
       " nan: nan,\n",
       " nan: nan,\n",
       " nan: nan,\n",
       " nan: nan,\n",
       " nan: nan,\n",
       " nan: nan,\n",
       " nan: nan,\n",
       " nan: nan,\n",
       " nan: nan,\n",
       " nan: nan,\n",
       " nan: nan,\n",
       " nan: nan,\n",
       " nan: nan,\n",
       " nan: nan,\n",
       " nan: nan,\n",
       " nan: nan,\n",
       " nan: nan,\n",
       " nan: nan,\n",
       " nan: nan,\n",
       " nan: nan,\n",
       " nan: nan,\n",
       " nan: nan,\n",
       " nan: nan,\n",
       " nan: nan,\n",
       " nan: nan,\n",
       " nan: nan,\n",
       " nan: nan,\n",
       " nan: nan,\n",
       " nan: nan,\n",
       " nan: nan,\n",
       " nan: nan,\n",
       " nan: nan,\n",
       " nan: nan,\n",
       " nan: nan,\n",
       " nan: nan,\n",
       " nan: nan,\n",
       " nan: nan,\n",
       " nan: nan,\n",
       " nan: nan,\n",
       " nan: nan,\n",
       " nan: nan,\n",
       " nan: nan,\n",
       " nan: nan,\n",
       " nan: nan,\n",
       " nan: nan,\n",
       " nan: nan,\n",
       " nan: nan,\n",
       " nan: nan,\n",
       " nan: nan,\n",
       " nan: nan,\n",
       " nan: nan,\n",
       " nan: nan,\n",
       " nan: nan,\n",
       " nan: nan,\n",
       " nan: nan,\n",
       " nan: nan,\n",
       " nan: nan,\n",
       " nan: nan,\n",
       " nan: nan,\n",
       " nan: nan}"
      ]
     },
     "execution_count": 11,
     "metadata": {},
     "output_type": "execute_result"
    }
   ],
   "source": [
    "lookup['accident_severity_encode'].dropna(inplace=True)\n",
    "lookup['accident_severity'].dropna(inplace=True)\n",
    "repl= lookup.set_index('accident_severity_encode')['accident_severity'].to_dict()#----->create a dictionary to map values\n",
    "repl=cleanNullTerms(repl)\n",
    "repl"
   ]
  },
  {
   "cell_type": "code",
   "execution_count": 12,
   "id": "5c29ccce",
   "metadata": {},
   "outputs": [
    {
     "data": {
      "text/plain": [
       "0    Slight\n",
       "1    Slight\n",
       "2    Slight\n",
       "3    Slight\n",
       "4    Slight\n",
       "Name: accident_severity, dtype: object"
      ]
     },
     "execution_count": 12,
     "metadata": {},
     "output_type": "execute_result"
    }
   ],
   "source": [
    "#Revert accident_severity column back to original labels\n",
    "df['accident_severity']=df['accident_severity_encode'].replace(repl)\n",
    "df['accident_severity'].head()"
   ]
  },
  {
   "cell_type": "code",
   "execution_count": 13,
   "id": "df8ebbf6",
   "metadata": {},
   "outputs": [
    {
     "data": {
      "text/plain": [
       "7"
      ]
     },
     "execution_count": 13,
     "metadata": {},
     "output_type": "execute_result"
    }
   ],
   "source": [
    "df_new.columns.get_loc('accident_severity_encode')"
   ]
  },
  {
   "cell_type": "code",
   "execution_count": 14,
   "id": "da8551f9",
   "metadata": {},
   "outputs": [
    {
     "data": {
      "text/plain": [
       "23"
      ]
     },
     "execution_count": 14,
     "metadata": {},
     "output_type": "execute_result"
    }
   ],
   "source": [
    "len(df.columns)"
   ]
  },
  {
   "cell_type": "code",
   "execution_count": null,
   "id": "7d516889",
   "metadata": {},
   "outputs": [],
   "source": []
  },
  {
   "cell_type": "code",
   "execution_count": 15,
   "id": "2850fb1b",
   "metadata": {},
   "outputs": [
    {
     "data": {
      "text/plain": [
       "0    Slight\n",
       "1    Slight\n",
       "2    Slight\n",
       "3    Slight\n",
       "4    Slight\n",
       "Name: accident_severity, dtype: object"
      ]
     },
     "execution_count": 15,
     "metadata": {},
     "output_type": "execute_result"
    }
   ],
   "source": [
    "x= df.iloc[:, :-1]\n",
    "y= df.iloc[:, -1]\n",
    "#x.head()\n",
    "y.head()"
   ]
  },
  {
   "cell_type": "code",
   "execution_count": null,
   "id": "c84fc5f2",
   "metadata": {},
   "outputs": [],
   "source": []
  },
  {
   "cell_type": "markdown",
   "id": "a2d0263c",
   "metadata": {},
   "source": [
    "# Label --> accident_severity"
   ]
  },
  {
   "cell_type": "code",
   "execution_count": 16,
   "id": "834c74fc",
   "metadata": {},
   "outputs": [
    {
     "data": {
      "text/html": [
       "<div>\n",
       "<style scoped>\n",
       "    .dataframe tbody tr th:only-of-type {\n",
       "        vertical-align: middle;\n",
       "    }\n",
       "\n",
       "    .dataframe tbody tr th {\n",
       "        vertical-align: top;\n",
       "    }\n",
       "\n",
       "    .dataframe thead th {\n",
       "        text-align: right;\n",
       "    }\n",
       "</style>\n",
       "<table border=\"1\" class=\"dataframe\">\n",
       "  <thead>\n",
       "    <tr style=\"text-align: right;\">\n",
       "      <th></th>\n",
       "      <th>location_easting_osgr</th>\n",
       "      <th>location_northing_osgr</th>\n",
       "      <th>number_of_vehicles</th>\n",
       "      <th>number_of_casualties</th>\n",
       "      <th>day_of_week</th>\n",
       "      <th>local_authority_district</th>\n",
       "      <th>speed_limit</th>\n",
       "      <th>accident_severity_encode</th>\n",
       "      <th>first_road_class_B</th>\n",
       "      <th>first_road_class_Motorway</th>\n",
       "      <th>...</th>\n",
       "      <th>junction_detail_encode</th>\n",
       "      <th>pedestrian_crossing_physical_facilities_Physical Crossing Facilities Present</th>\n",
       "      <th>light_conditions_encode</th>\n",
       "      <th>weather_conditions_encode</th>\n",
       "      <th>road_surface_conditions_Dry</th>\n",
       "      <th>road_surface_conditions_Flood over 3cm. deep</th>\n",
       "      <th>road_surface_conditions_Wet or damp</th>\n",
       "      <th>Special Conditions Present</th>\n",
       "      <th>carriageway_hazards_Present</th>\n",
       "      <th>accident_severity</th>\n",
       "    </tr>\n",
       "  </thead>\n",
       "  <tbody>\n",
       "    <tr>\n",
       "      <th>0</th>\n",
       "      <td>0.560148</td>\n",
       "      <td>0.179868</td>\n",
       "      <td>0.000000</td>\n",
       "      <td>0.0</td>\n",
       "      <td>0.166667</td>\n",
       "      <td>0.967177</td>\n",
       "      <td>0.333333</td>\n",
       "      <td>2</td>\n",
       "      <td>0</td>\n",
       "      <td>0</td>\n",
       "      <td>...</td>\n",
       "      <td>0.084136</td>\n",
       "      <td>1</td>\n",
       "      <td>0.670667</td>\n",
       "      <td>0.747174</td>\n",
       "      <td>1</td>\n",
       "      <td>0</td>\n",
       "      <td>0</td>\n",
       "      <td>0</td>\n",
       "      <td>0</td>\n",
       "      <td>Slight</td>\n",
       "    </tr>\n",
       "    <tr>\n",
       "      <th>1</th>\n",
       "      <td>0.559979</td>\n",
       "      <td>0.180709</td>\n",
       "      <td>0.033333</td>\n",
       "      <td>0.0</td>\n",
       "      <td>0.000000</td>\n",
       "      <td>0.967177</td>\n",
       "      <td>0.333333</td>\n",
       "      <td>2</td>\n",
       "      <td>0</td>\n",
       "      <td>0</td>\n",
       "      <td>...</td>\n",
       "      <td>0.708190</td>\n",
       "      <td>1</td>\n",
       "      <td>0.225328</td>\n",
       "      <td>0.747174</td>\n",
       "      <td>1</td>\n",
       "      <td>0</td>\n",
       "      <td>0</td>\n",
       "      <td>0</td>\n",
       "      <td>0</td>\n",
       "      <td>Slight</td>\n",
       "    </tr>\n",
       "    <tr>\n",
       "      <th>2</th>\n",
       "      <td>0.558225</td>\n",
       "      <td>0.179958</td>\n",
       "      <td>0.033333</td>\n",
       "      <td>0.0</td>\n",
       "      <td>0.333333</td>\n",
       "      <td>0.967177</td>\n",
       "      <td>0.333333</td>\n",
       "      <td>2</td>\n",
       "      <td>0</td>\n",
       "      <td>0</td>\n",
       "      <td>...</td>\n",
       "      <td>0.039080</td>\n",
       "      <td>0</td>\n",
       "      <td>0.670667</td>\n",
       "      <td>0.747174</td>\n",
       "      <td>1</td>\n",
       "      <td>0</td>\n",
       "      <td>0</td>\n",
       "      <td>0</td>\n",
       "      <td>0</td>\n",
       "      <td>Slight</td>\n",
       "    </tr>\n",
       "    <tr>\n",
       "      <th>3</th>\n",
       "      <td>0.560380</td>\n",
       "      <td>0.180489</td>\n",
       "      <td>0.033333</td>\n",
       "      <td>0.0</td>\n",
       "      <td>0.000000</td>\n",
       "      <td>0.967177</td>\n",
       "      <td>0.333333</td>\n",
       "      <td>2</td>\n",
       "      <td>1</td>\n",
       "      <td>0</td>\n",
       "      <td>...</td>\n",
       "      <td>0.084136</td>\n",
       "      <td>0</td>\n",
       "      <td>0.670667</td>\n",
       "      <td>0.747174</td>\n",
       "      <td>0</td>\n",
       "      <td>0</td>\n",
       "      <td>1</td>\n",
       "      <td>0</td>\n",
       "      <td>0</td>\n",
       "      <td>Slight</td>\n",
       "    </tr>\n",
       "    <tr>\n",
       "      <th>4</th>\n",
       "      <td>0.560116</td>\n",
       "      <td>0.179888</td>\n",
       "      <td>0.000000</td>\n",
       "      <td>0.0</td>\n",
       "      <td>0.666667</td>\n",
       "      <td>0.967177</td>\n",
       "      <td>0.333333</td>\n",
       "      <td>2</td>\n",
       "      <td>0</td>\n",
       "      <td>0</td>\n",
       "      <td>...</td>\n",
       "      <td>0.708190</td>\n",
       "      <td>0</td>\n",
       "      <td>0.670667</td>\n",
       "      <td>0.747174</td>\n",
       "      <td>1</td>\n",
       "      <td>0</td>\n",
       "      <td>0</td>\n",
       "      <td>0</td>\n",
       "      <td>0</td>\n",
       "      <td>Slight</td>\n",
       "    </tr>\n",
       "  </tbody>\n",
       "</table>\n",
       "<p>5 rows × 23 columns</p>\n",
       "</div>"
      ],
      "text/plain": [
       "   location_easting_osgr  location_northing_osgr  number_of_vehicles  \\\n",
       "0               0.560148                0.179868            0.000000   \n",
       "1               0.559979                0.180709            0.033333   \n",
       "2               0.558225                0.179958            0.033333   \n",
       "3               0.560380                0.180489            0.033333   \n",
       "4               0.560116                0.179888            0.000000   \n",
       "\n",
       "   number_of_casualties  day_of_week  local_authority_district  speed_limit  \\\n",
       "0                   0.0     0.166667                  0.967177     0.333333   \n",
       "1                   0.0     0.000000                  0.967177     0.333333   \n",
       "2                   0.0     0.333333                  0.967177     0.333333   \n",
       "3                   0.0     0.000000                  0.967177     0.333333   \n",
       "4                   0.0     0.666667                  0.967177     0.333333   \n",
       "\n",
       "   accident_severity_encode  first_road_class_B  first_road_class_Motorway  \\\n",
       "0                         2                   0                          0   \n",
       "1                         2                   0                          0   \n",
       "2                         2                   0                          0   \n",
       "3                         2                   1                          0   \n",
       "4                         2                   0                          0   \n",
       "\n",
       "   ...  junction_detail_encode  \\\n",
       "0  ...                0.084136   \n",
       "1  ...                0.708190   \n",
       "2  ...                0.039080   \n",
       "3  ...                0.084136   \n",
       "4  ...                0.708190   \n",
       "\n",
       "   pedestrian_crossing_physical_facilities_Physical Crossing Facilities Present  \\\n",
       "0                                                  1                              \n",
       "1                                                  1                              \n",
       "2                                                  0                              \n",
       "3                                                  0                              \n",
       "4                                                  0                              \n",
       "\n",
       "   light_conditions_encode  weather_conditions_encode  \\\n",
       "0                 0.670667                   0.747174   \n",
       "1                 0.225328                   0.747174   \n",
       "2                 0.670667                   0.747174   \n",
       "3                 0.670667                   0.747174   \n",
       "4                 0.670667                   0.747174   \n",
       "\n",
       "   road_surface_conditions_Dry  road_surface_conditions_Flood over 3cm. deep  \\\n",
       "0                            1                                             0   \n",
       "1                            1                                             0   \n",
       "2                            1                                             0   \n",
       "3                            0                                             0   \n",
       "4                            1                                             0   \n",
       "\n",
       "   road_surface_conditions_Wet or damp  Special Conditions Present  \\\n",
       "0                                    0                           0   \n",
       "1                                    0                           0   \n",
       "2                                    0                           0   \n",
       "3                                    1                           0   \n",
       "4                                    0                           0   \n",
       "\n",
       "   carriageway_hazards_Present  accident_severity  \n",
       "0                            0             Slight  \n",
       "1                            0             Slight  \n",
       "2                            0             Slight  \n",
       "3                            0             Slight  \n",
       "4                            0             Slight  \n",
       "\n",
       "[5 rows x 23 columns]"
      ]
     },
     "execution_count": 16,
     "metadata": {},
     "output_type": "execute_result"
    }
   ],
   "source": [
    "df.head()"
   ]
  },
  {
   "cell_type": "markdown",
   "id": "5cfadaa9",
   "metadata": {},
   "source": [
    "# KNN"
   ]
  },
  {
   "cell_type": "code",
   "execution_count": 17,
   "id": "18974de5",
   "metadata": {},
   "outputs": [
    {
     "name": "stdout",
     "output_type": "stream",
     "text": [
      "training set size: 66794 samples \n",
      "test set size: 16699 samples\n"
     ]
    }
   ],
   "source": [
    "# split the data into train and test sets\n",
    "x_train, x_test, y_train, y_test= train_test_split(x, y,\n",
    "                                                   test_size= 0.2,\n",
    "                                                   shuffle= True, #shuffle the data to avoid bias\n",
    "                                                   random_state= 500)\n",
    "x_train= np.asarray(x_train)\n",
    "y_train= np.asarray(y_train)\n",
    "\n",
    "x_test= np.asarray(x_test)\n",
    "y_test= np.asarray(y_test)\n",
    "\n",
    "#80% training set and 20% test set \n",
    "print(f'training set size: {x_train.shape[0]} samples \\ntest set size: {x_test.shape[0]} samples')"
   ]
  },
  {
   "cell_type": "code",
   "execution_count": 18,
   "id": "00a960db",
   "metadata": {},
   "outputs": [
    {
     "data": {
      "text/plain": [
       "Slight     11859\n",
       "Serious     4362\n",
       "Fatal        478\n",
       "dtype: int64"
      ]
     },
     "execution_count": 18,
     "metadata": {},
     "output_type": "execute_result"
    }
   ],
   "source": [
    "d1=pd.DataFrame(y_test)\n",
    "d1.value_counts()"
   ]
  },
  {
   "cell_type": "code",
   "execution_count": 19,
   "id": "f89c2ee3",
   "metadata": {},
   "outputs": [
    {
     "data": {
      "text/plain": [
       "258.44535205725794"
      ]
     },
     "execution_count": 19,
     "metadata": {},
     "output_type": "execute_result"
    }
   ],
   "source": [
    "K=math.sqrt(len(x_train))\n",
    "K"
   ]
  },
  {
   "cell_type": "code",
   "execution_count": 20,
   "id": "bd5ccf0b",
   "metadata": {},
   "outputs": [],
   "source": [
    "#To make k odd \n",
    "K=259"
   ]
  },
  {
   "cell_type": "code",
   "execution_count": 12,
   "id": "d72170e2",
   "metadata": {},
   "outputs": [
    {
     "data": {
      "image/png": "[encoded data removed]",
      "text/plain": [
       "<Figure size 432x288 with 1 Axes>"
      ]
     },
     "metadata": {
      "needs_background": "light"
     },
     "output_type": "display_data"
    }
   ],
   "source": [
    "accuracy_list = []\n",
    "list_K = list(range(241,259,2))\n",
    "for K in list_K:\n",
    "    knn=KNeighborsClassifier(K)\n",
    "    knn.fit(x_train, y_train)\n",
    "    y_pred= knn.predict(x_test)\n",
    "    accuracy_list.append(accuracy_score(y_test, y_pred))\n",
    "plt.plot(list_K,accuracy_list)\n",
    "plt.scatter(list_K,accuracy_list)\n",
    "plt.xlabel('K')\n",
    "plt.ylabel('Accuracy');"
   ]
  },
  {
   "cell_type": "code",
   "execution_count": 21,
   "id": "6c244a54",
   "metadata": {},
   "outputs": [],
   "source": [
    "knn = KNeighborsClassifier(K)\n",
    "knn_scores = cross_val_score(knn, x_train, y_train, cv=5)\n",
    "results = cross_validate(estimator=knn,\n",
    "                               X=x_test,\n",
    "                               y=y_test,\n",
    "                               #cv=_cv,\n",
    "                               #scoring=_scoring,\n",
    "                               return_train_score=True)"
   ]
  },
  {
   "cell_type": "code",
   "execution_count": 22,
   "id": "d81293ea",
   "metadata": {},
   "outputs": [
    {
     "data": {
      "text/plain": [
       "{'fit_time': array([0.04709053, 0.05402899, 0.01404905, 0.02621174, 0.03123927]),\n",
       " 'score_time': array([2.07804346, 2.24416447, 2.0630784 , 2.67183399, 2.26502991]),\n",
       " 'test_score': array([0.96137725, 0.95808383, 0.95958084, 0.96077844, 0.96466008]),\n",
       " 'train_score': array([0.9606258 , 0.96077551, 0.96189835, 0.95935325, 0.96115269])}"
      ]
     },
     "execution_count": 22,
     "metadata": {},
     "output_type": "execute_result"
    }
   ],
   "source": [
    "results"
   ]
  },
  {
   "cell_type": "code",
   "execution_count": null,
   "id": "60d6e265",
   "metadata": {},
   "outputs": [],
   "source": [
    "knn.fit(x_train, y_train)\n",
    "y_pred = knn.predict(x_test)\n",
    "knn_acc = accuracy_score(y_test, y_pred)\n",
    "knn_cm = confusion_matrix(y_test, y_pred)\n",
    "knn_report = classification_report(y_test, )\n",
    "#knn_roc = plot_roc_curve(knn, x_test, y_test, multi_class='ovr')\n",
    "knn_confusion_matrix = plot_confusion_matrix(knn, x_test, y_test, normalize='true')"
   ]
  },
  {
   "cell_type": "code",
   "execution_count": 48,
   "id": "463f8b59",
   "metadata": {},
   "outputs": [
    {
     "name": "stdout",
     "output_type": "stream",
     "text": [
      "0.9937720821606084\n"
     ]
    }
   ],
   "source": [
    "print(accuracy_score(y_test, y_pred))"
   ]
  },
  {
   "cell_type": "code",
   "execution_count": 49,
   "id": "da6fd098",
   "metadata": {},
   "outputs": [
    {
     "data": {
      "text/plain": [
       "Slight     11862\n",
       "Serious     4460\n",
       "Fatal        377\n",
       "dtype: int64"
      ]
     },
     "execution_count": 49,
     "metadata": {},
     "output_type": "execute_result"
    }
   ],
   "source": [
    "d1=pd.DataFrame(y_pred)\n",
    "d1.value_counts()\n",
    "#Fatal accidents were never correctly classified"
   ]
  },
  {
   "cell_type": "markdown",
   "id": "8009c095",
   "metadata": {},
   "source": [
    "# Naive Bayes"
   ]
  },
  {
   "cell_type": "code",
   "execution_count": 24,
   "id": "a90140d0",
   "metadata": {},
   "outputs": [],
   "source": [
    "x= df.iloc[:, :-1]\n",
    "y= df.iloc[:, -1]\n",
    "#x.head()\n",
    "#y.head()"
   ]
  },
  {
   "cell_type": "code",
   "execution_count": 25,
   "id": "98327e9b",
   "metadata": {
    "scrolled": true
   },
   "outputs": [
    {
     "name": "stdout",
     "output_type": "stream",
     "text": [
      "Number of mislabeled points out of a total 16699 points : 0\n"
     ]
    }
   ],
   "source": [
    " \n",
    "x_train, x_test, y_train, y_test = train_test_split(x, y, test_size=0.2, random_state=520)\n",
    "gnb = GaussianNB()\n",
    "gnb_scores = cross_val_score(gnb, x_train, y_train, cv=5)\n",
    "y_pred = gnb.fit(x_train, y_train).predict(x_test)\n",
    "print(\"Number of mislabeled points out of a total %d points : %d\"\n",
    "       % (x_test.shape[0], (y_test != y_pred).sum()))\n"
   ]
  },
  {
   "cell_type": "code",
   "execution_count": 27,
   "id": "a29fb342",
   "metadata": {},
   "outputs": [
    {
     "data": {
      "text/plain": [
       "{'fit_time': array([0.04361463, 0.03193069, 0.03205967, 0.0473752 , 0.04225755]),\n",
       " 'score_time': array([0.        , 0.01599717, 0.01745558, 0.        , 0.00902677]),\n",
       " 'test_score': array([1., 1., 1., 1., 1.]),\n",
       " 'train_score': array([1., 1., 1., 1., 1.])}"
      ]
     },
     "execution_count": 27,
     "metadata": {},
     "output_type": "execute_result"
    }
   ],
   "source": [
    "results = cross_validate(estimator=gnb,\n",
    "                               X=x_test,\n",
    "                               y=y_test,\n",
    "                               #cv=_cv,\n",
    "                               #scoring=_scoring,\n",
    "                               return_train_score=True)\n",
    "results"
   ]
  },
  {
   "cell_type": "code",
   "execution_count": 28,
   "id": "edd7433b",
   "metadata": {},
   "outputs": [
    {
     "data": {
      "image/png": "[encoded data removed]",
      "text/plain": [
       "<Figure size 432x288 with 2 Axes>"
      ]
     },
     "metadata": {
      "needs_background": "light"
     },
     "output_type": "display_data"
    }
   ],
   "source": [
    "gnb_cm = confusion_matrix(y_test, y_pred)\n",
    "gnb_report = classification_report(y_test, y_pred)\n",
    "#gnb_roc = plot_roc_curve(gnb, x_test, y_test, multi_class='ovr')\n",
    "gnb_confusion_matrix = plot_confusion_matrix(gnb, x_test, y_test, normalize='true')"
   ]
  },
  {
   "cell_type": "code",
   "execution_count": 29,
   "id": "93e2af3a",
   "metadata": {},
   "outputs": [],
   "source": [
    "#import sklearn.naive_bayes.MultinomialNB\n",
    "from sklearn.naive_bayes import MultinomialNB"
   ]
  },
  {
   "cell_type": "code",
   "execution_count": 32,
   "id": "b3cf9543",
   "metadata": {},
   "outputs": [],
   "source": [
    "clf = MultinomialNB(alpha=1)\n",
    "results = cross_validate(estimator=clf,\n",
    "                               X=x_test,\n",
    "                               y=y_test,\n",
    "                               #cv=_cv,---> default is 5 K Fold\n",
    "                               #scoring=_scoring,\n",
    "                               return_train_score=True)\n"
   ]
  },
  {
   "cell_type": "code",
   "execution_count": 33,
   "id": "e22f2f83",
   "metadata": {},
   "outputs": [
    {
     "data": {
      "text/plain": [
       "{'fit_time': array([0.12485647, 0.07715082, 0.0937233 , 0.11433721, 0.06993341]),\n",
       " 'score_time': array([0.01596546, 0.01758242, 0.        , 0.01663065, 0.00392532]),\n",
       " 'test_score': array([0.71167665, 0.71197605, 0.71137725, 0.71227545, 0.71188979]),\n",
       " 'train_score': array([0.71150535, 0.71195449, 0.71172992, 0.7121042 , 0.7114521 ])}"
      ]
     },
     "execution_count": 33,
     "metadata": {},
     "output_type": "execute_result"
    }
   ],
   "source": [
    "results"
   ]
  },
  {
   "cell_type": "code",
   "execution_count": 34,
   "id": "6e24c684",
   "metadata": {},
   "outputs": [
    {
     "name": "stdout",
     "output_type": "stream",
     "text": [
      "Accuracy: 0.711300077848973\n"
     ]
    }
   ],
   "source": [
    "clf.fit(x_train, y_train)\n",
    "# Make predictions on the test set\n",
    "y_pred = clf.predict(x_test)\n",
    "\n",
    "# Calculate the accuracy of the classifier\n",
    "print(\"Accuracy:\", accuracy_score(y_test, y_pred))"
   ]
  },
  {
   "cell_type": "code",
   "execution_count": 35,
   "id": "cfc16fa2",
   "metadata": {},
   "outputs": [
    {
     "data": {
      "image/png": "[encoded data removed]",
      "text/plain": [
       "<Figure size 432x288 with 2 Axes>"
      ]
     },
     "metadata": {
      "needs_background": "light"
     },
     "output_type": "display_data"
    }
   ],
   "source": [
    "clf_cm = confusion_matrix(y_test, y_pred)\n",
    "clf_report = classification_report(y_test, y_pred)\n",
    "#gnb_roc = plot_roc_curve(gnb, x_test, y_test, multi_class='ovr')\n",
    "clf_confusion_matrix = plot_confusion_matrix(clf, x_test, y_test, normalize='true')"
   ]
  },
  {
   "cell_type": "code",
   "execution_count": null,
   "id": "4844670b",
   "metadata": {},
   "outputs": [],
   "source": [
    "#Multinomial distribution has lower accuracy but Gaussian \n",
    "#tends to overfit\n",
    "#Multinomial does not predict fatal accidents"
   ]
  },
  {
   "cell_type": "code",
   "execution_count": 36,
   "id": "53a7b815",
   "metadata": {
    "scrolled": true
   },
   "outputs": [
    {
     "data": {
      "text/plain": [
       "Slight     16566\n",
       "Serious      133\n",
       "dtype: int64"
      ]
     },
     "execution_count": 36,
     "metadata": {},
     "output_type": "execute_result"
    }
   ],
   "source": [
    "d1=pd.DataFrame(y_pred)\n",
    "d1.value_counts()"
   ]
  },
  {
   "cell_type": "markdown",
   "id": "c9580729",
   "metadata": {},
   "source": [
    "# Logistic Regression"
   ]
  },
  {
   "cell_type": "code",
   "execution_count": 37,
   "id": "724276a2",
   "metadata": {},
   "outputs": [],
   "source": [
    "x_train, x_test, y_train, y_test= train_test_split(x, y,\n",
    "                                                   test_size= 0.2,\n",
    "                                                   shuffle= True, #shuffle the data to avoid bias\n",
    "                                                   random_state= 500)\n",
    "x_train= np.asarray(x_train)\n",
    "y_train= np.asarray(y_train)\n",
    "\n",
    "x_test= np.asarray(x_test)\n",
    "y_test= np.asarray(y_test)\n",
    "\n",
    "#80% training set and 20% test set print(f'training set size: {x_train.shape[0]} samples \\ntest set size: {x_test.shape[0]} samples')"
   ]
  },
  {
   "cell_type": "code",
   "execution_count": 38,
   "id": "f6feb034",
   "metadata": {},
   "outputs": [
    {
     "data": {
      "text/plain": [
       "[100.0,\n",
       " 50.0,\n",
       " 25.0,\n",
       " 12.5,\n",
       " 6.25,\n",
       " 3.125,\n",
       " 1.5625,\n",
       " 0.78125,\n",
       " 0.390625,\n",
       " 0.1953125,\n",
       " 0.09765625]"
      ]
     },
     "execution_count": 38,
     "metadata": {},
     "output_type": "execute_result"
    }
   ],
   "source": [
    "alpha_values = [0.01,0.02,0.04,0.08,0.16,0.32,0.64,1.28,2.56,5.12,10.24]\n",
    "C=[]\n",
    "for i in alpha_values:\n",
    "    C.append(1/i)\n",
    "C"
   ]
  },
  {
   "cell_type": "code",
   "execution_count": 60,
   "id": "2b2ab048",
   "metadata": {},
   "outputs": [],
   "source": [
    "lr_model = LogisticRegression()\n",
    "#alpha_values = [0.01,0.02,0.04,0.08,0.16,0.32,0.64,1.28,2.56,5.12,10.24]\n",
    "lr_params = {'C':C, 'penalty': ['l1', 'l2']}\n",
    "lr_grid = GridSearchCV(lr_model, lr_params, cv=5)\n",
    "lr_grid.fit(x_train, y_train)\n",
    "lr_best = lr_grid.best_estimator_\n"
   ]
  },
  {
   "cell_type": "code",
   "execution_count": 61,
   "id": "b719dcbe",
   "metadata": {},
   "outputs": [],
   "source": [
    "lr_scores = cross_val_score(lr_best, x_train, y_train, cv=5)\n",
    "lr_best.fit(x_train, y_train)\n",
    "lr_pred = lr_best.predict(x_test)\n",
    "lr_acc = accuracy_score(y_test, lr_pred)\n",
    "lr_cm = confusion_matrix(y_test, lr_pred)"
   ]
  },
  {
   "cell_type": "code",
   "execution_count": 62,
   "id": "95ab1584",
   "metadata": {},
   "outputs": [
    {
     "data": {
      "text/plain": [
       "array([1., 1., 1., 1., 1.])"
      ]
     },
     "execution_count": 62,
     "metadata": {},
     "output_type": "execute_result"
    }
   ],
   "source": [
    "lr_scores"
   ]
  },
  {
   "cell_type": "code",
   "execution_count": 63,
   "id": "58dace5b",
   "metadata": {},
   "outputs": [
    {
     "data": {
      "image/png": "[encoded data removed]",
      "text/plain": [
       "<Figure size 432x288 with 2 Axes>"
      ]
     },
     "metadata": {
      "needs_background": "light"
     },
     "output_type": "display_data"
    }
   ],
   "source": [
    "lr_report = classification_report(y_test, lr_pred)\n",
    "#lr_roc = plot_roc_curve(lr_best, x_test, y_test, multi_class='ovr')\n",
    "lr_confusion_matrix = plot_confusion_matrix(lr_best, x_test, y_test, normalize='true')"
   ]
  },
  {
   "cell_type": "code",
   "execution_count": 89,
   "id": "99f16c03",
   "metadata": {},
   "outputs": [],
   "source": [
    "\n",
    "#y_pred = lr_model.predict(x_test)"
   ]
  },
  {
   "cell_type": "code",
   "execution_count": 65,
   "id": "f99db466",
   "metadata": {},
   "outputs": [],
   "source": [
    "#lr_scores = cross_val_score(lr_model, x_train, y_train, cv=5)\n",
    "#print('Cross-Validation Accuracy Scores', scores)"
   ]
  },
  {
   "cell_type": "code",
   "execution_count": 67,
   "id": "d35cde7d",
   "metadata": {},
   "outputs": [
    {
     "name": "stdout",
     "output_type": "stream",
     "text": [
      "Accuracy: 1.0\n"
     ]
    }
   ],
   "source": [
    "# Calculate the accuracy\n",
    "accuracy = accuracy_score(y_test, lr_pred)\n",
    "\n",
    "# Print the accuracy\n",
    "print(\"Accuracy:\", accuracy)"
   ]
  },
  {
   "cell_type": "code",
   "execution_count": 68,
   "id": "6e737172",
   "metadata": {},
   "outputs": [
    {
     "data": {
      "text/plain": [
       "Slight     16566\n",
       "Serious      133\n",
       "dtype: int64"
      ]
     },
     "execution_count": 68,
     "metadata": {},
     "output_type": "execute_result"
    }
   ],
   "source": [
    "d1=pd.DataFrame(y_pred)\n",
    "d1.value_counts()"
   ]
  },
  {
   "cell_type": "markdown",
   "id": "c01f5f68",
   "metadata": {},
   "source": [
    "# Neural Networks"
   ]
  },
  {
   "cell_type": "code",
   "execution_count": 53,
   "id": "bc15212d",
   "metadata": {},
   "outputs": [],
   "source": [
    "clf = MLPClassifier(solver='adam', activation='relu' ,#alpha=0.1,\n",
    "                    shuffle=True,\n",
    "                    #verbose=True,\n",
    "                    learning_rate_init=0.00001,early_stopping=True,\n",
    "                     hidden_layer_sizes=(10, 7), random_state=42)\n",
    "\n"
   ]
  },
  {
   "cell_type": "code",
   "execution_count": 46,
   "id": "63eb9bb1",
   "metadata": {},
   "outputs": [],
   "source": [
    "results = cross_validate(estimator=clf,\n",
    "                               X=x_test,\n",
    "                               y=y_test,\n",
    "                               #cv=_cv,---> default is 5 K Fold\n",
    "                               #scoring=_scoring,\n",
    "                               return_train_score=True)"
   ]
  },
  {
   "cell_type": "code",
   "execution_count": 47,
   "id": "5ec585c9",
   "metadata": {},
   "outputs": [
    {
     "data": {
      "text/plain": [
       "{'fit_time': array([4.20800519, 4.47585869, 3.73394823, 4.26924491, 4.47557211]),\n",
       " 'score_time': array([0.01567936, 0.0140481 , 0.00790095, 0.01561928, 0.01562238]),\n",
       " 'test_score': array([0.70988024, 0.70928144, 0.70928144, 0.70988024, 0.71069182]),\n",
       " 'train_score': array([0.71000823, 0.71008309, 0.70985852, 0.70970881, 0.70973054])}"
      ]
     },
     "execution_count": 47,
     "metadata": {},
     "output_type": "execute_result"
    }
   ],
   "source": [
    "results"
   ]
  },
  {
   "cell_type": "code",
   "execution_count": 58,
   "id": "16d9403d",
   "metadata": {},
   "outputs": [],
   "source": [
    "clf = MLPClassifier(solver='adam', activation='relu' ,#alpha=0.1,\n",
    "                    shuffle=True,\n",
    "                    verbose=True,\n",
    "                    learning_rate_init=0.00001,\n",
    "                    early_stopping=True,\n",
    "                     hidden_layer_sizes=(10, 7),\n",
    "                    random_state=42)"
   ]
  },
  {
   "cell_type": "code",
   "execution_count": 59,
   "id": "e7ca6e74",
   "metadata": {},
   "outputs": [
    {
     "name": "stdout",
     "output_type": "stream",
     "text": [
      "Iteration 1, loss = 1.07056403\n",
      "Validation score: 0.697754\n",
      "Iteration 2, loss = 1.05170596\n",
      "Validation score: 0.708982\n",
      "Iteration 3, loss = 1.03433157\n",
      "Validation score: 0.711826\n",
      "Iteration 4, loss = 1.01814867\n",
      "Validation score: 0.713024\n",
      "Iteration 5, loss = 1.00294629\n",
      "Validation score: 0.713323\n",
      "Iteration 6, loss = 0.98858235\n",
      "Validation score: 0.714072\n",
      "Iteration 7, loss = 0.97493937\n",
      "Validation score: 0.714521\n",
      "Iteration 8, loss = 0.96192359\n",
      "Validation score: 0.714671\n",
      "Iteration 9, loss = 0.94944703\n",
      "Validation score: 0.714820\n",
      "Iteration 10, loss = 0.93744781\n",
      "Validation score: 0.714820\n",
      "Iteration 11, loss = 0.92585446\n",
      "Validation score: 0.714820\n",
      "Iteration 12, loss = 0.91463524\n",
      "Validation score: 0.714820\n",
      "Iteration 13, loss = 0.90376473\n",
      "Validation score: 0.714820\n",
      "Iteration 14, loss = 0.89321572\n",
      "Validation score: 0.714820\n",
      "Iteration 15, loss = 0.88298129\n",
      "Validation score: 0.714820\n",
      "Iteration 16, loss = 0.87304704\n",
      "Validation score: 0.714820\n",
      "Iteration 17, loss = 0.86339672\n",
      "Validation score: 0.714820\n",
      "Iteration 18, loss = 0.85401842\n",
      "Validation score: 0.714820\n",
      "Iteration 19, loss = 0.84490696\n",
      "Validation score: 0.714820\n",
      "Iteration 20, loss = 0.83603836\n",
      "Validation score: 0.714820\n",
      "Validation score did not improve more than tol=0.000100 for 10 consecutive epochs. Stopping.\n"
     ]
    }
   ],
   "source": [
    "clf.fit(x_train, y_train)\n",
    "y_pred=clf.predict(x_test)\n",
    "#score=clf.score()\n",
    "#df_new.dtypes"
   ]
  },
  {
   "cell_type": "code",
   "execution_count": 60,
   "id": "85e085e9",
   "metadata": {},
   "outputs": [
    {
     "data": {
      "text/plain": [
       "0.7102221689921552"
      ]
     },
     "execution_count": 60,
     "metadata": {},
     "output_type": "execute_result"
    }
   ],
   "source": [
    "score=clf.score(x_test,y_test)\n",
    "score"
   ]
  },
  {
   "cell_type": "code",
   "execution_count": 61,
   "id": "ce57c208",
   "metadata": {},
   "outputs": [
    {
     "data": {
      "image/png": "[encoded data removed]",
      "text/plain": [
       "<Figure size 432x288 with 2 Axes>"
      ]
     },
     "metadata": {
      "needs_background": "light"
     },
     "output_type": "display_data"
    }
   ],
   "source": [
    "lr_confusion_matrix = plot_confusion_matrix(clf, x_test, y_test, normalize='true')"
   ]
  }
 ],
 "metadata": {
  "kernelspec": {
   "display_name": "Python 3 (ipykernel)",
   "language": "python",
   "name": "python3"
  },
  "language_info": {
   "codemirror_mode": {
    "name": "ipython",
    "version": 3
   },
   "file_extension": ".py",
   "mimetype": "text/x-python",
   "name": "python",
   "nbconvert_exporter": "python",
   "pygments_lexer": "ipython3",
   "version": "3.9.12"
  }
 },
 "nbformat": 4,
 "nbformat_minor": 5
}
